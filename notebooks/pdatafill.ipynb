{
 "cells": [
  {
   "attachments": {},
   "cell_type": "markdown",
   "metadata": {},
   "source": [
    "# Fill the void\n",
    "\n",
    "Refs: Olga Troyanskaya, Michael Cantor, Gavin Sherlock, Pat Brown, Trevor Hastie, Robert Tibshirani, David Botstein and Russ B. Altman, Missing value estimation methods for DNA microarrays, BIOINFORMATICS Vol. 17 no. 6, 2001 Pages 520-525.\n"
   ]
  },
  {
   "cell_type": "code",
   "execution_count": null,
   "metadata": {},
   "outputs": [],
   "source": [
    "import os\n",
    "if not os.path.exists(\"README.md\"):\n",
    "    os.chdir(\"../\")\n",
    "\n",
    "import pandas as pd\n",
    "import numpy as np\n",
    "import matplotlib.pyplot as plt\n",
    "\n",
    "degenes = pd.read_csv('./data/final/degenes.csv', index_col=0)\n",
    "pdata = pd.read_csv('./data/final/pData.csv', index_col=0)\n",
    "degenes_t = degenes.T\n",
    "degenes_t.columns = [x.split('///')[0] for x in degenes_t.columns]\n",
    "degenes = degenes_t.T\n",
    "degenes = degenes/10\n",
    "degenes_t = degenes.T/10\n",
    "\n",
    "# merge degenes and pdata\n",
    "degenes_t = degenes_t.merge(pdata, left_index=True, right_index=True)\n",
    "degenes_t\n"
   ]
  },
  {
   "cell_type": "code",
   "execution_count": null,
   "metadata": {},
   "outputs": [],
   "source": [
    "# put cancer status to nan if in the row there are nan\n",
    "degenes_t.loc[degenes_t.isnull().any(axis=1), 'cancer_status'] = 1\n",
    "degenes_t.loc[degenes_t.isnull().any(axis=1), 'cancer_status']\n",
    "\n",
    "degenes_t"
   ]
  },
  {
   "cell_type": "code",
   "execution_count": null,
   "metadata": {},
   "outputs": [],
   "source": [
    "#count nan rows\n",
    "degenes_t.isnull().any(axis=1).sum()"
   ]
  },
  {
   "cell_type": "code",
   "execution_count": null,
   "metadata": {},
   "outputs": [],
   "source": [
    "from sklearn.impute import KNNImputer\n",
    "imputer = KNNImputer(n_neighbors=5, weights=\"distance\")\n",
    "degenes_t_filled = imputer.fit_transform(degenes_t)\n",
    "degenes_t_filled = pd.DataFrame(degenes_t_filled, index=degenes_t.index, columns=degenes_t.columns)"
   ]
  },
  {
   "cell_type": "code",
   "execution_count": null,
   "metadata": {},
   "outputs": [],
   "source": [
    "degenes_t_filled"
   ]
  },
  {
   "cell_type": "code",
   "execution_count": null,
   "metadata": {},
   "outputs": [],
   "source": [
    "# round gender, age, packyears, hemopytis, lymphadenopathy, smoking_status, subjective_assessment columns\n",
    "\n",
    "to_round = ['gender', 'age', 'packyears', 'hemopytsis', 'lymphadenopathy', 'smoking_status', 'subjective_assessment', '>3cm']\n",
    "degenes_t_filled[to_round] = degenes_t_filled[to_round].round(0)\n",
    "degenes_t_filled"
   ]
  },
  {
   "cell_type": "code",
   "execution_count": null,
   "metadata": {},
   "outputs": [],
   "source": [
    "# save to csv\n",
    "degenes_t_filled.to_csv('./data/final/degenes_with_pdata_filled.csv')\n",
    "\n",
    "# save only pdata columns that were filled\n",
    "degenes_t_filled_pdata = degenes_t_filled.iloc[:, -10:]\n",
    "degenes_t_filled_pdata.to_csv('./data/final/pdata_filled.csv')"
   ]
  }
 ],
 "metadata": {
  "kernelspec": {
   "display_name": ".venv",
   "language": "python",
   "name": "python3"
  },
  "language_info": {
   "codemirror_mode": {
    "name": "ipython",
    "version": 3
   },
   "file_extension": ".py",
   "mimetype": "text/x-python",
   "name": "python",
   "nbconvert_exporter": "python",
   "pygments_lexer": "ipython3",
   "version": "3.10.11"
  },
  "orig_nbformat": 4
 },
 "nbformat": 4,
 "nbformat_minor": 2
}
